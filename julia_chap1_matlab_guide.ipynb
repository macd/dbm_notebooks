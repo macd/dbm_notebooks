{
 "cells": [
  {
   "cell_type": "markdown",
   "metadata": {},
   "source": [
    "This Jupyter [Julia](http://julialang.org/) notebook is a direct translation of Chapter 1 of\n",
    "\n",
    ">D. J. Higham and N.J. Higham.  \n",
    ">[MATLAB Guide](http://www.ec-securehost.com/SIAM/ot92.html), Second edition,  \n",
    ">Society for Industrial and Applied Mathematics, Philadelphia, PA, USA,  \n",
    ">2005, ISBN 0-89871-578-4\n",
    "\n",
    "with MATLAB code converted to equivalent Julia code. There are a small number of additions in the text to address Julia differences and additions.  A full description of the Julia language can be found at Readthedocs [here](http://julia.readthedocs.org/en/latest/manual/).   It is also useful to read about [noteworthy differences](http://docs.julialang.org/en/latest/manual/noteworthy-differences/#noteworthy-differences-from-matlab) between Matlab, R, and Python as compared to Julia.  The original paper describing the Julia language can be found [here.](http://www-math.mit.edu/~edelman/homepage/papers/juliafast.pdf)  [IPython](http://ipython.org/) , from which the IJulia project evolved, is discussed in reference [2] and is currently evolving again to [Project Jupyter](http://jupyter.org/)\n",
    "\n",
    "One way to install Julia and supporting software is to first install [anaconda](http://continuum.io/downloads) which installs a Python environment which contains the plotting package **matplotlib** and the very useful **IPython shell** and **IPython/IJulia Notebook** (which is what you are reading now). Then install Julia from [here](http://julialang.org/downloads/).  Finally, in the Julia shell type in **Pkg.add(\"PyPlot\")** for plotting and **Pkg.add(\"IJulia\")** for the IPython Notebook with a Julia backend, after the **julia>** prompt.  One of the examples uses the ordinary differential equation solver package \"ODE\", and that can be installed by **Pkg.add(\"ODE\")**.  Once you have finished, you can start the IJulia notebook with the command **ipython notebook --profile=julia**\n",
    "\n",
    "All the errors here are, of course, mine.  If (or rather when) you find them, please let me know. In the meantime, I hope you find it useful.  \n",
    "\n",
    "Don MacMillen:    don (sometimes) at macmillen dot net\n",
    "\n",
    "# Chapter 1 A Brief Tutorial\n",
    "\n",
    "The best way to learn Julia is by trying it yourself, and hence we begin with a whirlwind tour. Working through the examples below will give you a feel for the way that Julia operates and an appreciation of its power and ﬂexibility. \n",
    "\n",
    "The tutorial is entirely independent of the rest of the book—all the Julia features introduced are discussed in greater detail in the subsequent chapters. Indeed, in order to keep this chapter brief, we have not explained all the functions used here. You can use the index in [1] to ﬁnd out more about particular topics that interest you. \n",
    "\n",
    "We will be using the Julia interactive shell as well as the IJulia notebook (which is what you are reading now) throughout this tutorial.  You can install these by following the directions at [IPython install](http://ipython.org/install.html) (or see the instructions above). This tutorial contains commands for you to type at the Julia command line. Alternatively, if you are viewing this notebook in a \"live\" mode served from a local IJulia notebook server running with --profile=julia, you can directly modify any of the cells and rerun the cell.  Just be aware that in some cases you may need to choose the \"Run All\" option from the cell drop down menu to satisfy intercell dependences.\n",
    "\n",
    "In the last part of this brief tutorial we give examples of script files and functions. These ﬁles are short, so you can type them in quickly or cut and paste them into an Julia shell, or you can just modify values in place in the IJulia notebook and re-evaluate the cell. You should experiment as you proceed, keeping the following points in mind. \n",
    "\n",
    "* Upper and lower case characters are not equivalent (Julia is case sensitive). \n",
    "* Typing the name of a variable will cause Julia to display its current value. \n",
    "* Julia uses parentheses, ( ), square brackets, [ ], and curly braces, { }, and these are not interchangeable. \n",
    "* In the Julia shell, the up arrow and down arrow keys can be used to scroll through your previous commands. Also, an old command can be recalled by typing the first few characters followed by up arrow. You can also use **ctrl-p** (type p while holding the control key down) to scroll back through the command history stack.  To move to the end of the line, type **ctrl-e**, to the beginning of the line **ctrl-a**.\n",
    "* You can type ?(topic) to access online help on the command, function, or object topic. Note that hyperlinks, indicated by underlines, are provided that will take you to related help items and the Help browser. \n",
    "* If you press the tab key after partially typing a function or variable name, Julia will attempt to complete it, offering you a selection of choices if there is more than one possible completion. \n",
    "* You can quit Julia by typing exit() or quit() or ctrl-d.\n",
    "\n",
    "Having entered the Julia command, you should work through this tutorial by typing in the text that appears after the prompt, **In [n]:** where n is a number which indicates the command's location in the command stack, in the command window. After showing you what to type, we display the output that is produced. We begin with arrays.  In native Julia arrays are lists denoted with the square bracket syntax."
   ]
  },
  {
   "cell_type": "code",
   "execution_count": 71,
   "metadata": {
    "collapsed": false
   },
   "outputs": [
    {
     "data": {
      "text/plain": [
       "1x3 Array{Int64,2}:\n",
       " 1  2  3"
      ]
     },
     "execution_count": 71,
     "metadata": {},
     "output_type": "execute_result"
    }
   ],
   "source": [
    "a = [1 2 3]"
   ]
  },
  {
   "cell_type": "markdown",
   "metadata": {},
   "source": [
    "If you type in the line listed in the box 'In[1]:' above into the Julia shell, then you will see the result listed in 'Out[1]:'\n",
    "\n",
    "This example sets up a 1-by-3 array, which is also called a row vector.  In the next example, comma's separate the entries:"
   ]
  },
  {
   "cell_type": "code",
   "execution_count": 72,
   "metadata": {
    "collapsed": false
   },
   "outputs": [
    {
     "data": {
      "text/plain": [
       "3-element Array{Int64,1}:\n",
       " 4\n",
       " 5\n",
       " 6"
      ]
     },
     "execution_count": 72,
     "metadata": {},
     "output_type": "execute_result"
    }
   ],
   "source": [
    "c = [4, 5, 6]"
   ]
  },
  {
   "cell_type": "markdown",
   "metadata": {},
   "source": [
    "The commas tell Julia to concantenate the scalars vertically, so **c** is a 3 element column vector. But notice that **c** has dimensions of (3,) while **a** has dimensions of (1,3) and this will be important below. Now you can multiply the arrays a and c:"
   ]
  },
  {
   "cell_type": "code",
   "execution_count": 73,
   "metadata": {
    "collapsed": false
   },
   "outputs": [
    {
     "data": {
      "text/plain": [
       "1-element Array{Int64,1}:\n",
       " 32"
      ]
     },
     "execution_count": 73,
     "metadata": {},
     "output_type": "execute_result"
    }
   ],
   "source": [
    "a * c"
   ]
  },
  {
   "cell_type": "markdown",
   "metadata": {},
   "source": [
    "Here, you performed an inner, or dot product, of the two vectors.  Notice that in this example, the product **a\\*c** was not explicitly assigned to any variable.  When there is no explicit assignment, Julia automatically assigns the result of the expression to the variable named **ans** (short for answer) **but only in the interactive shell** as you can see by the following:"
   ]
  },
  {
   "cell_type": "code",
   "execution_count": 74,
   "metadata": {
    "collapsed": false
   },
   "outputs": [
    {
     "data": {
      "text/plain": [
       "1-element Array{Int64,1}:\n",
       " 32"
      ]
     },
     "execution_count": 74,
     "metadata": {},
     "output_type": "execute_result"
    }
   ],
   "source": [
    "ans"
   ]
  },
  {
   "cell_type": "markdown",
   "metadata": {},
   "source": [
    "Inputs to Julia functions are speciﬁed after the function name and within parentheses. You may also form the outer product:"
   ]
  },
  {
   "cell_type": "code",
   "execution_count": 75,
   "metadata": {
    "collapsed": false
   },
   "outputs": [
    {
     "data": {
      "text/plain": [
       "3x3 Array{Int64,2}:\n",
       " 4   8  12\n",
       " 5  10  15\n",
       " 6  12  18"
      ]
     },
     "execution_count": 75,
     "metadata": {},
     "output_type": "execute_result"
    }
   ],
   "source": [
    "A = c * a"
   ]
  },
  {
   "cell_type": "markdown",
   "metadata": {},
   "source": [
    "Here the answer is a 3-by-3 array that has been assigned to **A**.\n",
    "\n",
    "The product **a \\* a**, is not defined, since the dimensions are incompatible for matrix multiplication:"
   ]
  },
  {
   "cell_type": "code",
   "execution_count": 76,
   "metadata": {
    "collapsed": false
   },
   "outputs": [
    {
     "ename": "LoadError",
     "evalue": "LoadError: DimensionMismatch(\"matrix A has dimensions (1, 3), matrix B has dimensions (1, 3)\")\nwhile loading In[76], in expression starting on line 1",
     "output_type": "error",
     "traceback": [
      "LoadError: DimensionMismatch(\"matrix A has dimensions (1, 3), matrix B has dimensions (1, 3)\")\nwhile loading In[76], in expression starting on line 1",
      "",
      " in generic_matmatmul! at linalg/matmul.jl:441",
      " in * at linalg/matmul.jl:131"
     ]
    }
   ],
   "source": [
    "a * a"
   ]
  },
  {
   "cell_type": "markdown",
   "metadata": {},
   "source": [
    "Arithmetic operations on matrices and vectors come in two distinct forms. Matrix sense operations are based on the normal rules of linear algebra and are obtained with the usual symbols **+, -, \\*, /,** and **^**. Array sense operations are deﬁned to act elementwise and are generally obtained by preceding the symbol with a dot.  Thus if you want to square each element af a you can write."
   ]
  },
  {
   "cell_type": "code",
   "execution_count": 77,
   "metadata": {
    "collapsed": false
   },
   "outputs": [
    {
     "data": {
      "text/plain": [
       "1x3 Array{Int64,2}:\n",
       " 1  4  9"
      ]
     },
     "execution_count": 77,
     "metadata": {},
     "output_type": "execute_result"
    }
   ],
   "source": [
    "b = a .^ 2"
   ]
  },
  {
   "cell_type": "markdown",
   "metadata": {},
   "source": [
    "Julia has many mathematical functions that operate in the array sense when given a vector or matrix argument.  For example,"
   ]
  },
  {
   "cell_type": "code",
   "execution_count": 78,
   "metadata": {
    "collapsed": false
   },
   "outputs": [
    {
     "data": {
      "text/plain": [
       "1x3 Array{Float64,2}:\n",
       " 2.71828  7.38906  20.0855"
      ]
     },
     "execution_count": 78,
     "metadata": {},
     "output_type": "execute_result"
    }
   ],
   "source": [
    "exp(a)"
   ]
  },
  {
   "cell_type": "code",
   "execution_count": 79,
   "metadata": {
    "collapsed": false
   },
   "outputs": [
    {
     "data": {
      "text/plain": [
       "1x3 Array{Float64,2}:\n",
       " 1.0  2.0  3.0"
      ]
     },
     "execution_count": 79,
     "metadata": {},
     "output_type": "execute_result"
    }
   ],
   "source": [
    "log(ans)"
   ]
  },
  {
   "cell_type": "code",
   "execution_count": 80,
   "metadata": {
    "collapsed": false
   },
   "outputs": [
    {
     "data": {
      "text/plain": [
       "1x3 Array{Float64,2}:\n",
       " 1.0  1.41421  1.73205"
      ]
     },
     "execution_count": 80,
     "metadata": {},
     "output_type": "execute_result"
    }
   ],
   "source": [
    "sqrt(a)"
   ]
  },
  {
   "cell_type": "markdown",
   "metadata": {},
   "source": [
    "By default, Julia uses a heuristic to determine the number of decimal digits to display, but always stores numbers and computes to the equivalent of 16 decimal digits.\n",
    "\n",
    "Large or small numbers are displayed in exponential notation, with a power of 10 scale factor preceded by e.  Note that in this next example the 24. (24 followed by a dot) is necessary since Julia will throw an error if exponentiating an integer to a negative integer power."
   ]
  },
  {
   "cell_type": "code",
   "execution_count": 81,
   "metadata": {
    "collapsed": false
   },
   "outputs": [
    {
     "data": {
      "text/plain": [
       "5.960464477539063e-8"
      ]
     },
     "execution_count": 81,
     "metadata": {},
     "output_type": "execute_result"
    }
   ],
   "source": [
    "2 ^ -24."
   ]
  },
  {
   "cell_type": "markdown",
   "metadata": {},
   "source": [
    "Various data analysis functions are also available.  "
   ]
  },
  {
   "cell_type": "code",
   "execution_count": 82,
   "metadata": {
    "collapsed": false
   },
   "outputs": [
    {
     "data": {
      "text/plain": [
       "(14,5.0)"
      ]
     },
     "execution_count": 82,
     "metadata": {},
     "output_type": "execute_result"
    }
   ],
   "source": [
    "sum(b), mean(c)"
   ]
  },
  {
   "cell_type": "markdown",
   "metadata": {},
   "source": [
    "As this example shows, you may include more than one command on the same line by separating them with commas.  If a command is followed by a semicolon then Julia suppresses the output.  Note that semicolons are **not** needed at the end of lines in scripts and are discouraged there by the style guidelines."
   ]
  },
  {
   "cell_type": "code",
   "execution_count": 83,
   "metadata": {
    "collapsed": false
   },
   "outputs": [
    {
     "data": {
      "text/plain": [
       "π = 3.1415926535897..."
      ]
     },
     "execution_count": 83,
     "metadata": {},
     "output_type": "execute_result"
    }
   ],
   "source": [
    "pi"
   ]
  },
  {
   "cell_type": "code",
   "execution_count": 84,
   "metadata": {
    "collapsed": false
   },
   "outputs": [],
   "source": [
    "y = tan(pi/6);"
   ]
  },
  {
   "cell_type": "markdown",
   "metadata": {},
   "source": [
    "The variable pi is a permanent variable with value $\\pi$. The variable *ans* always contains the most recent unassigned expression, so after the assignment to y, *ans* still holds the Value $\\pi$.\n",
    "\n",
    "You may set up a two dimensional array by using spaces to separate entries within a row and semicolons to separate rows:"
   ]
  },
  {
   "cell_type": "code",
   "execution_count": 85,
   "metadata": {
    "collapsed": false
   },
   "outputs": [
    {
     "data": {
      "text/plain": [
       "3x3 Array{Int64,2}:\n",
       " -3  0  -1\n",
       "  2  5  -7\n",
       " -1  4   8"
      ]
     },
     "execution_count": 85,
     "metadata": {},
     "output_type": "execute_result"
    }
   ],
   "source": [
    "B = [-3  0 -1; 2  5 -7; -1  4  8]"
   ]
  },
  {
   "cell_type": "markdown",
   "metadata": {},
   "source": [
    "At the heart of Julia is a powerful range of linear algebra functions. For example, recalling that c is a 3-by-1 Vector, you may wish to solve the linear system $B * x = c$. This can be done with the backslash operator:"
   ]
  },
  {
   "cell_type": "code",
   "execution_count": 86,
   "metadata": {
    "collapsed": false
   },
   "outputs": [
    {
     "data": {
      "text/plain": [
       "3-element Array{Float64,1}:\n",
       " -1.29954 \n",
       "  1.37788 \n",
       " -0.101382"
      ]
     },
     "execution_count": 86,
     "metadata": {},
     "output_type": "execute_result"
    }
   ],
   "source": [
    "x = B\\c"
   ]
  },
  {
   "cell_type": "markdown",
   "metadata": {},
   "source": [
    "You can check the result by computing the Euclidean norm of the relative residual:"
   ]
  },
  {
   "cell_type": "code",
   "execution_count": 87,
   "metadata": {
    "collapsed": false
   },
   "outputs": [
    {
     "data": {
      "text/plain": [
       "9.651308470608712e-17"
      ]
     },
     "execution_count": 87,
     "metadata": {},
     "output_type": "execute_result"
    }
   ],
   "source": [
    "norm(B*x - c) / (norm(B) * norm(x))"
   ]
  },
  {
   "cell_type": "markdown",
   "metadata": {},
   "source": [
    "While nonzero because of rounding errors in the computations, this residual is about as small as we can expect, given that Julia computes to the equivalent of about 16 decimal digits.\n",
    "\n",
    "The eigenvalues of B can be found using _eig_:"
   ]
  },
  {
   "cell_type": "code",
   "execution_count": 88,
   "metadata": {
    "collapsed": false
   },
   "outputs": [
    {
     "data": {
      "text/plain": [
       "(Complex{Float64}[-3.136050410238308 + 0.0im,6.568025205119154 + 5.104543190419535im,6.568025205119154 - 5.104543190419535im],\n",
       "3x3 Array{Complex{Float64},2}:\n",
       "  0.982903+0.0im  -0.0385442-0.0392755im  -0.0385442+0.0392755im\n",
       " -0.126565+0.0im   -0.800527+0.0im         -0.800527-0.0im      \n",
       "  0.133724+0.0im    0.168308+0.572539im     0.168308-0.572539im )"
      ]
     },
     "execution_count": 88,
     "metadata": {},
     "output_type": "execute_result"
    }
   ],
   "source": [
    "e = eig(B)"
   ]
  },
  {
   "cell_type": "markdown",
   "metadata": {},
   "source": [
    "Notice two things about this code snippet.  First, eig returns both the eigenvalues and the eigenvectors. Also the solution shows that **im** is the imaginary unit, $\\sqrt{-1}$.  You may also specify two output arguments for the function eig:"
   ]
  },
  {
   "cell_type": "code",
   "execution_count": 89,
   "metadata": {
    "collapsed": false
   },
   "outputs": [
    {
     "data": {
      "text/plain": [
       "(Complex{Float64}[-3.136050410238308 + 0.0im,6.568025205119154 + 5.104543190419535im,6.568025205119154 - 5.104543190419535im],\n",
       "3x3 Array{Complex{Float64},2}:\n",
       "  0.982903+0.0im  -0.0385442-0.0392755im  -0.0385442+0.0392755im\n",
       " -0.126565+0.0im   -0.800527+0.0im         -0.800527-0.0im      \n",
       "  0.133724+0.0im    0.168308+0.572539im     0.168308-0.572539im )"
      ]
     },
     "execution_count": 89,
     "metadata": {},
     "output_type": "execute_result"
    }
   ],
   "source": [
    "(D, V) = eig(B)"
   ]
  },
  {
   "cell_type": "code",
   "execution_count": 90,
   "metadata": {
    "collapsed": false
   },
   "outputs": [
    {
     "data": {
      "text/plain": [
       "3-element Array{Complex{Float64},1}:\n",
       " -3.13605+0.0im    \n",
       "  6.56803+5.10454im\n",
       "  6.56803-5.10454im"
      ]
     },
     "execution_count": 90,
     "metadata": {},
     "output_type": "execute_result"
    }
   ],
   "source": [
    "D"
   ]
  },
  {
   "cell_type": "code",
   "execution_count": 91,
   "metadata": {
    "collapsed": false
   },
   "outputs": [
    {
     "data": {
      "text/plain": [
       "3x3 Array{Complex{Float64},2}:\n",
       "  0.982903+0.0im  -0.0385442-0.0392755im  -0.0385442+0.0392755im\n",
       " -0.126565+0.0im   -0.800527+0.0im         -0.800527-0.0im      \n",
       "  0.133724+0.0im    0.168308+0.572539im     0.168308-0.572539im "
      ]
     },
     "execution_count": 91,
     "metadata": {},
     "output_type": "execute_result"
    }
   ],
   "source": [
    "V"
   ]
  },
  {
   "cell_type": "markdown",
   "metadata": {},
   "source": [
    "The columns of V are the eigenvectors of B while the values in D are the eigenvalues.  Note that the returned arguments are in reversed order from the MATLAB version of eig.\n",
    "\n",
    "The colon notation is useful for constructing vectors of equally spaced values. For example,"
   ]
  },
  {
   "cell_type": "code",
   "execution_count": 92,
   "metadata": {
    "collapsed": false
   },
   "outputs": [
    {
     "data": {
      "text/plain": [
       "6-element Array{Int64,1}:\n",
       " 1\n",
       " 2\n",
       " 3\n",
       " 4\n",
       " 5\n",
       " 6"
      ]
     },
     "execution_count": 92,
     "metadata": {},
     "output_type": "execute_result"
    }
   ],
   "source": [
    "v = [1:6]"
   ]
  },
  {
   "cell_type": "markdown",
   "metadata": {},
   "source": [
    "This is different from MATLAB.  If we had just used the notation **1:6** (that is, use no square brackets) we would have set **v** to a range object.  By using the square brackets, we are using a comprehension to obtain the vector specified by the range.\n",
    "\n",
    "To quote the Julia [manual](http://julia.readthedocs.org/en/latest/manual/), \"Comprehensions provide a general and powerful way to construct arrays. Comprehension syntax is similar to set construction notation in mathematics\"  In the following, we see a one line function definition that takes to arguments and returns a single value.  Notice that we have written **3y** instead of **3\\*y**.  In many instances we can skip the star between a constant factor and the expression it is multiplying for cleaner looking code.  The comprehension appears on the right hand side of the assignment to **g**."
   ]
  },
  {
   "cell_type": "code",
   "execution_count": 93,
   "metadata": {
    "collapsed": false
   },
   "outputs": [
    {
     "data": {
      "text/plain": [
       "3x4 Array{Int64,2}:\n",
       "  7  10  13  16\n",
       " 10  13  16  19\n",
       " 15  18  21  24"
      ]
     },
     "execution_count": 93,
     "metadata": {},
     "output_type": "execute_result"
    }
   ],
   "source": [
    "f(x, y) = x^2 +3y\n",
    "g = [f(i, j) for i=1:3, j=2:5]"
   ]
  },
  {
   "cell_type": "markdown",
   "metadata": {},
   "source": [
    "Generally, **[m:n]** generates the vector with entries m, m+1, ... , n.  Nonunit increments can be specified with m:s:n syntax where s is the step size."
   ]
  },
  {
   "cell_type": "code",
   "execution_count": 94,
   "metadata": {
    "collapsed": false
   },
   "outputs": [
    {
     "data": {
      "text/plain": [
       "3-element Array{Int64,1}:\n",
       " 2\n",
       " 5\n",
       " 8"
      ]
     },
     "execution_count": 94,
     "metadata": {},
     "output_type": "execute_result"
    }
   ],
   "source": [
    "y = [2:3:10]"
   ]
  },
  {
   "cell_type": "code",
   "execution_count": 95,
   "metadata": {
    "collapsed": false
   },
   "outputs": [
    {
     "data": {
      "text/plain": [
       "5-element Array{Float64,1}:\n",
       " 1.0 \n",
       " 0.75\n",
       " 0.5 \n",
       " 0.25\n",
       " 0.0 "
      ]
     },
     "execution_count": 95,
     "metadata": {},
     "output_type": "execute_result"
    }
   ],
   "source": [
    "y = [1:-0.25:0]"
   ]
  },
  {
   "cell_type": "markdown",
   "metadata": {},
   "source": [
    "You may construct big matrices out of smaller ones by following the conventions that (a) square brackets enclose and array, (b) spaces separate entries in a row, and (c) semicolons separate rows.  If only \"vertical\" concatenations are being done, then the elements can be separated by commas."
   ]
  },
  {
   "cell_type": "code",
   "execution_count": 96,
   "metadata": {
    "collapsed": false
   },
   "outputs": [
    {
     "data": {
      "text/plain": [
       "4x3 Array{Int64,2}:\n",
       " 4   8  12\n",
       " 5  10  15\n",
       " 6  12  18\n",
       " 8   9  10"
      ]
     },
     "execution_count": 96,
     "metadata": {},
     "output_type": "execute_result"
    }
   ],
   "source": [
    "C = [A, [8 9 10]]"
   ]
  },
  {
   "cell_type": "code",
   "execution_count": 97,
   "metadata": {
    "collapsed": false
   },
   "outputs": [
    {
     "data": {
      "text/plain": [
       "4x3 Array{Int64,2}:\n",
       " -3  0  -1\n",
       "  2  5  -7\n",
       " -1  4   8\n",
       "  1  2   3"
      ]
     },
     "execution_count": 97,
     "metadata": {},
     "output_type": "execute_result"
    }
   ],
   "source": [
    "D = [B; a]"
   ]
  },
  {
   "cell_type": "markdown",
   "metadata": {},
   "source": [
    "The element in row **i** and column **j** of the matrix **C** (where **i** and **j** always start at 1) can be accessed as **C[i, j]**."
   ]
  },
  {
   "cell_type": "code",
   "execution_count": 98,
   "metadata": {
    "collapsed": false
   },
   "outputs": [
    {
     "data": {
      "text/plain": [
       "15"
      ]
     },
     "execution_count": 98,
     "metadata": {},
     "output_type": "execute_result"
    }
   ],
   "source": [
    "C[2, 3]"
   ]
  },
  {
   "cell_type": "markdown",
   "metadata": {},
   "source": [
    "More generally, **C[i1:i2, j1:j2]** picks out the submatrix formed by the intersection of rows **i1** to **i2** and columns **j1** to **j2**."
   ]
  },
  {
   "cell_type": "code",
   "execution_count": 99,
   "metadata": {
    "collapsed": false
   },
   "outputs": [
    {
     "data": {
      "text/plain": [
       "2x2 Array{Int64,2}:\n",
       " 5  10\n",
       " 6  12"
      ]
     },
     "execution_count": 99,
     "metadata": {},
     "output_type": "execute_result"
    }
   ],
   "source": [
    "C[2:3, 1:2]"
   ]
  },
  {
   "cell_type": "markdown",
   "metadata": {},
   "source": [
    "You can build certain types of matrices automatically. For example, identities and matrices of zeros and ones can be constructed with eye, zeros, and ones:"
   ]
  },
  {
   "cell_type": "code",
   "execution_count": 100,
   "metadata": {
    "collapsed": false
   },
   "outputs": [
    {
     "data": {
      "text/plain": [
       "3x3 Array{Float64,2}:\n",
       " 1.0  0.0  0.0\n",
       " 0.0  1.0  0.0\n",
       " 0.0  0.0  1.0"
      ]
     },
     "execution_count": 100,
     "metadata": {},
     "output_type": "execute_result"
    }
   ],
   "source": [
    "I3 = eye(3)"
   ]
  },
  {
   "cell_type": "code",
   "execution_count": 101,
   "metadata": {
    "collapsed": false
   },
   "outputs": [
    {
     "data": {
      "text/plain": [
       "3x5 Array{Float64,2}:\n",
       " 0.0  0.0  0.0  0.0  0.0\n",
       " 0.0  0.0  0.0  0.0  0.0\n",
       " 0.0  0.0  0.0  0.0  0.0"
      ]
     },
     "execution_count": 101,
     "metadata": {},
     "output_type": "execute_result"
    }
   ],
   "source": [
    "Y = zeros(3, 5)"
   ]
  },
  {
   "cell_type": "code",
   "execution_count": 102,
   "metadata": {
    "collapsed": false
   },
   "outputs": [
    {
     "data": {
      "text/plain": [
       "2x2 Array{Float64,2}:\n",
       " 1.0  1.0\n",
       " 1.0  1.0"
      ]
     },
     "execution_count": 102,
     "metadata": {},
     "output_type": "execute_result"
    }
   ],
   "source": [
    "Z = ones((2,2))"
   ]
  },
  {
   "cell_type": "markdown",
   "metadata": {},
   "source": [
    "Note that the functions **zeros** and **ones** can take either a single integer argument, which results in a one dimensional array; a single array argument, which results in a multi dimensional array of size specified by the array; or muliple integer arguments, one specifying the size of each dimension of the resulting array.\n",
    "\n",
    "The functions **rand** and **randn** work in a similar way, generating random entries from the uniform distribution over [0, 1] and the normal (0, 1) distribution, respectively.  The numbers generated depend on the seed of the random number generator (rng).  By explicitly setting the seed, you can make your experiments repeatable.  The function to set the seed is **srand**."
   ]
  },
  {
   "cell_type": "code",
   "execution_count": 103,
   "metadata": {
    "collapsed": false
   },
   "outputs": [
    {
     "data": {
      "text/plain": [
       "3x3 Array{Float64,2}:\n",
       " 0.41409   0.43761    0.698962\n",
       " 0.977533  0.0782563  0.573936\n",
       " 0.524623  0.0866527  0.958093"
      ]
     },
     "execution_count": 103,
     "metadata": {},
     "output_type": "execute_result"
    }
   ],
   "source": [
    "srand(20)\n",
    "F = rand(3, 3)"
   ]
  },
  {
   "cell_type": "code",
   "execution_count": 104,
   "metadata": {
    "collapsed": false
   },
   "outputs": [
    {
     "data": {
      "text/plain": [
       "1x5 Array{Float64,2}:\n",
       " -0.488116  -0.259957  -0.688782  1.49457  0.411919"
      ]
     },
     "execution_count": 104,
     "metadata": {},
     "output_type": "execute_result"
    }
   ],
   "source": [
    "G = randn(1, 5)"
   ]
  },
  {
   "cell_type": "markdown",
   "metadata": {},
   "source": [
    "At this point several variables have been created in the workspace.  You can obtain a list with the whos() command."
   ]
  },
  {
   "cell_type": "code",
   "execution_count": 105,
   "metadata": {
    "collapsed": false
   },
   "outputs": [
    {
     "name": "stdout",
     "output_type": "stream",
     "text": [
      "                             A     72 bytes  3x3 Array{Int64,2} : [4 8 12…\n",
      "                             B     72 bytes  3x3 Array{Int64,2} : [-3 0 -1…\n",
      "                          Base  14525 KB     Module : Base\n",
      "                             C     96 bytes  4x3 Array{Int64,2} : [4 8 12…\n",
      "                        Compat     42 KB     Module : Compat\n",
      "                          Core   1833 KB     Module : Core\n",
      "                             D     96 bytes  4x3 Array{Int64,2} : [-3 0 -1…\n",
      "                             F     72 bytes  3x3 Array{Float64,2} : [0.41409002…\n",
      "                             G     40 bytes  1x5 Array{Float64,2} : [-0.4881164…\n",
      "                            I3     72 bytes  3x3 Array{Float64,2} : [1.0 0.0 0.0…\n",
      "                        IJulia    243 KB     Module : IJulia\n",
      "                IPythonDisplay     18 KB     Module : IPythonDisplay\n",
      "                          JSON     65 KB     Module : JSON\n",
      "                          Main  17043 KB     Module : Main\n"
     ]
    }
   ],
   "source": [
    "whos()"
   ]
  },
  {
   "cell_type": "markdown",
   "metadata": {},
   "source": [
    "Like most languages Julia has loop contructs.  The following example uses a for loop to evaluate the continued fraction  $\\cfrac{1}{1+\\cfrac{1}{1+\\cfrac{1}{1+\\cfrac{1}{1+\\cfrac{1}{1+\\cfrac{1}{1 + \\cfrac{1}{1 + \\cfrac{1}{1 + \\cfrac{1}{1 + \\cfrac{1}{1}}}}}}}}}}$\n"
   ]
  },
  {
   "cell_type": "markdown",
   "metadata": {},
   "source": [
    "which approximates the golden ratio, (1 + $\\sqrt{5}$)/2. The evaluation is done from the bottom up:"
   ]
  },
  {
   "cell_type": "code",
   "execution_count": 106,
   "metadata": {
    "collapsed": false
   },
   "outputs": [
    {
     "data": {
      "text/plain": [
       "1.6180555555555556"
      ]
     },
     "execution_count": 106,
     "metadata": {},
     "output_type": "execute_result"
    }
   ],
   "source": [
    "g = 2.\n",
    "for k=1:10\n",
    "    g = 1 + 1 / g\n",
    "end\n",
    "g"
   ]
  },
  {
   "cell_type": "markdown",
   "metadata": {},
   "source": [
    "Which we can check with the predefined **golden** constant."
   ]
  },
  {
   "cell_type": "code",
   "execution_count": 107,
   "metadata": {
    "collapsed": false
   },
   "outputs": [
    {
     "data": {
      "text/plain": [
       "φ = 1.6180339887498..."
      ]
     },
     "execution_count": 107,
     "metadata": {},
     "output_type": "execute_result"
    }
   ],
   "source": [
    "golden"
   ]
  },
  {
   "cell_type": "markdown",
   "metadata": {},
   "source": [
    "Loops involving the while statement can be found later in this tutorial.\n",
    "\n",
    "The plot function from the matplotlib module pylab produces two dimensional pictures.  You can access these ploting and graphics functions with the **using PyPlot** statement, which imports the names of the **PyPlot** module into the current scope."
   ]
  },
  {
   "cell_type": "code",
   "execution_count": 108,
   "metadata": {
    "collapsed": false
   },
   "outputs": [
    {
     "ename": "LoadError",
     "evalue": "LoadError: UndefVarError: plot not defined\nwhile loading In[108], in expression starting on line 5",
     "output_type": "error",
     "traceback": [
      "LoadError: UndefVarError: plot not defined\nwhile loading In[108], in expression starting on line 5",
      ""
     ]
    }
   ],
   "source": [
    "# Import plotting functions into current namespace\n",
    "using PyPlot\n",
    "t = [0:0.005:1.00]\n",
    "z = exp(10t .* (t - 1)) .* sin(12pi * t)\n",
    "plot(t, z)\n",
    "title(\"Figure 1.2. Basic 2D picture produced by plot\")"
   ]
  },
  {
   "cell_type": "markdown",
   "metadata": {},
   "source": [
    "Here, plot(t, z) joins the points t[i], z[i] using the default solid linetype.  Matplotlib opens a figure window in which the picture is displayed.  In this IJulia notebook, the matplotlib figures are included 'in line'.  When you are using the Julia REPL (read, evaluate, print loop) as a command line interpreter, after opening a plot figure window, you can close it in the normal way, ie by clicking on the x in the window title bar.\n",
    "\n",
    "You can produce a histogram with the function hist.  Note that we had to use **import PyPlot.plt** and then use plt.hist in order to avoid a name collision with the built-in Julia hist method."
   ]
  },
  {
   "cell_type": "code",
   "execution_count": 109,
   "metadata": {
    "collapsed": false
   },
   "outputs": [
    {
     "name": "stderr",
     "output_type": "stream",
     "text": [
      "WARNING: could not import PyPlot.plt into Main\n"
     ]
    },
    {
     "ename": "LoadError",
     "evalue": "LoadError: UndefVarError: plt not defined\nwhile loading In[109], in expression starting on line 2",
     "output_type": "error",
     "traceback": [
      "LoadError: UndefVarError: plt not defined\nwhile loading In[109], in expression starting on line 2",
      ""
     ]
    }
   ],
   "source": [
    "import PyPlot.plt\n",
    "plt.hist(randn(1000))\n",
    "title(\"Figure 1.3. Histogram produced by hist.\")"
   ]
  },
  {
   "cell_type": "markdown",
   "metadata": {},
   "source": [
    "Here, hist is given 1000 points from the normal (0, 1) random number generator\n",
    "\n",
    "You are now ready for more challenging computations.  A random Fibonacci sequency {$x_{n}$} is generated by choosing $x_{1}$ and $x_{2}$ and setting\n",
    "\n",
    "$$  x_{n + 1} = x_{n} \\pm x_{n -1}, \\; n \\ge 2 $$\n",
    "\n",
    "Here, the $\\pm$ indicates that + and - must have equal probability of being chosen.  Viswanath [121] listed in [1] analyzed this recurrence and showed that, with probability 1, for large n the quantity $|x_{n}|$ increases like a multiple of $c^{n}$, where c = 1.13198824... (see also [25]).  You can test Viswanath's result as follows:"
   ]
  },
  {
   "cell_type": "code",
   "execution_count": 110,
   "metadata": {
    "collapsed": false
   },
   "outputs": [
    {
     "ename": "LoadError",
     "evalue": "LoadError: UndefVarError: semilogy not defined\nwhile loading In[110], in expression starting on line 13",
     "output_type": "error",
     "traceback": [
      "LoadError: UndefVarError: semilogy not defined\nwhile loading In[110], in expression starting on line 13",
      ""
     ]
    }
   ],
   "source": [
    "# Random Fibonacci sequence\n",
    "using PyPlot\n",
    "\n",
    "srand(100)\n",
    "m = 1000\n",
    "\n",
    "x = zeros(m)\n",
    "x[1:2] = [1 2]\n",
    "for n in 2:m-1\n",
    "    x[n + 1] = x[n] + sign(rand() - 0.5) * x[n - 1]\n",
    "end\n",
    "\n",
    "semilogy(1:m, abs(x))\n",
    "c = 1.13198824\n",
    "hold(true)\n",
    "semilogy(1:m, c .^ (1:m))\n",
    "title(\"Figure 1.4. Growth of a random Fibonacci sequence\")\n",
    "hold(false)"
   ]
  },
  {
   "cell_type": "markdown",
   "metadata": {},
   "source": [
    "The for loop stores a random Fibonacci sequence in the array x; we preallocate x to the size needed and initialize to zero using the zeros() function. The semilogy function then plots n on the x-axis against $|X|$ on the y-axis, with logarithmic scaling for the y-axis. Typing hold(true) tells matplotlib to superimpose the next picture on top of the current one. The second semilogy plot produces a line of slope c. The overall picture, shown in Figure 1.4, is consistent with Viswanath’s theory.\n",
    "\n",
    "We can make the above code into a command by writing it out to a file. If you cut and paste it into a file called fib.jl, you can then run it in the Julia REPL by typing \"run fib\" or \"run fib.jl\" to reproduce the above graph.\n",
    "\n",
    "However, you can experiment directly in this IJulia notebook by changing any of the values and then hitting the 'play' button above.\n",
    "\n",
    "Our next example involved the Collatz iteration, which, given a positive integer $x_{1}$, has the form $x_{k + 1} = f(x_{k})$, where\n",
    "\n",
    "$$f(x) = \\left\\{\n",
    "  \\begin{array}{lr}\n",
    "    3x + 1 & :  x \\: \\% \\: 2 == 0\\\\\n",
    "    x/2 & : x \\: \\% \\: 2 == 1\n",
    "  \\end{array}\n",
    "\\right.\n",
    "$$\n",
    "\n",
    "Here $x \\: \\% \\: y$ is the modulus function of x and y, which can also written as mod(x, y) in Julia.  It is the remainder of x when divided by y.  In this case $x \\: \\% \\: 2 == 0$, if true, means that x is even and if $x \\: \\% \\: 2 == 1$ is true, then x is odd.  Note that these are perfectly good Julia functions"
   ]
  },
  {
   "cell_type": "code",
   "execution_count": 111,
   "metadata": {
    "collapsed": false
   },
   "outputs": [],
   "source": [
    "x = 3\n",
    "if x % 2 == 0\n",
    "    println(\"x is even\")\n",
    "else\n",
    "    println(\"x is odd\")\n",
    "end"
   ]
  },
  {
   "cell_type": "markdown",
   "metadata": {},
   "source": [
    "But now returning to our quest, the equation above in words means:\n",
    "if $x$ is odd, replace it by $3x + 1$, and if $x$ is even, halve it. It has been conjectured that this iteration will always lead to a value of 1 (and hence thereafter cycle between 4, 2, and 1) whatever starting value $x_{1}$ is chosen. There is ample computational evidence to support this conjecture, which is variously known as the Collatz problem, the $3x + 1$ problem, the Syracuse problem, Kakutani’s problem, Hasse’s algorithm, and Ulam’s problem. However, a rigorous proof has so far eluded mathematicians. For further details, see [63] listed in [1] or type “Collatz problem” into your favorite Web search engine. You can investigate the conjecture by creating the Julia script ﬁle collatz.jl shown below. In this file a while loop and an if statement are used to implement the iteration. You can run this in the notebook simply by changing the value of n and hitting the play button.  Or, you can save this to a file named collatz.jl (remembering to uncommment out the line '\\#print... and commenting out the line \"n = 27\". Then, from the **julia>** repl prompt, type \"run collatz\". The input command prompts you for a starting value. The appropriate response is to type an integer and then hit return."
   ]
  },
  {
   "cell_type": "code",
   "execution_count": 112,
   "metadata": {
    "collapsed": false
   },
   "outputs": [
    {
     "ename": "LoadError",
     "evalue": "LoadError: UndefVarError: plot not defined\nwhile loading In[112], in expression starting on line 21",
     "output_type": "error",
     "traceback": [
      "LoadError: UndefVarError: plot not defined\nwhile loading In[112], in expression starting on line 21",
      ""
     ]
    }
   ],
   "source": [
    "#COLLATZ Collatz iteration. \n",
    "using PyPlot\n",
    "\n",
    "#print(\"Enter an integer bigger than 2: \"); n = int(chomp(readline()))\n",
    "init_n = n = 27;\n",
    "narray = zeros(1000)  # only a maximum of 1000 iterations\n",
    "narray[1] = n;\n",
    "count = 0;\n",
    "while n != 1\n",
    "    if n % 2 == 1  # Remainder modulo 2. \n",
    "        n = 3 * n + 1;\n",
    "    else\n",
    "        n = n / 2;\n",
    "    end\n",
    "    count += 1\n",
    "    narray[count] = n  # Store the current iterate\n",
    "end\n",
    "\n",
    "# Plot with * marker and solid line style.\n",
    "# Only plot the non zero entries in narray\n",
    "plot(narray[narray .!= 0], \"*-\")\n",
    "title(\"Figure 1.5. Collatz iteration starting at $init_n\")"
   ]
  },
  {
   "cell_type": "markdown",
   "metadata": {},
   "source": [
    "A couple of things you should note about the code above.  This first is that it will fail if the number of iterations goes beyond 1000.  For most of the inputs I have tried, it 'converged' in under 200 iterations.  But you should try to break it!  The second thing to note is that we only want to plot the non zero values.  All the zero values at the end of the array add no new information and we want to drop them.  That is easily accomplished by using the narray[narray .!= 0] syntax which selects only the non-zero values out of narray.\n",
    "\n",
    "To investigate the Collatz problem further, the script collbar in the next listing plots a bar graph of the number of iterations required to reach the value 1, for starting Values 1,2,. . . ,29. The result is shown in Figure 1.6. For this picture, the function plt.grid adds grid lines that extend from the axis tick marks, while plt.title, plt.xlabel, and plt.ylabel add further information. "
   ]
  },
  {
   "cell_type": "code",
   "execution_count": 113,
   "metadata": {
    "collapsed": false
   },
   "outputs": [
    {
     "ename": "LoadError",
     "evalue": "LoadError: UndefVarError: bar not defined\nwhile loading In[113], in expression starting on line 21",
     "output_type": "error",
     "traceback": [
      "LoadError: UndefVarError: bar not defined\nwhile loading In[113], in expression starting on line 21",
      ""
     ]
    }
   ],
   "source": [
    "#COLLBAR Collatz iteration bar graph.\n",
    "using PyPlot\n",
    "\n",
    "N = 29 # Use starting values 1,2,...,N.\n",
    "niter = zeros(N);  # Preallocate array.\n",
    "for i in 1:N\n",
    "    count = 0;\n",
    "    n = i + 1;\n",
    "    while n != 1\n",
    "        if n % 2 == 1\n",
    "            n = 3 * n + 1;\n",
    "        else\n",
    "            n = n / 2;\n",
    "        end\n",
    "        count += 1;\n",
    "    end\n",
    "    niter[i] = count;\n",
    "end\n",
    "\n",
    "left = 1:N;\n",
    "bar(left, niter) # Bar graph.\n",
    "grid()   # Add horizontal and vertical grid lines.\n",
    "title(\"Figure 1.6. Collatz iteration counts\")\n",
    "xlabel(\"Starting value\") # Label X-axis.\n",
    "ylabel(\"Number of iterations\")  #Label y-axis."
   ]
  },
  {
   "cell_type": "markdown",
   "metadata": {},
   "source": [
    "The Well-known and much studied Mandelbrot set can be approximated graphically in just a few lines of Julia. It is deﬁned as the set of points c in the complex plane for which the sequence generated by the map $z \\mapsto z^{2} + c$, starting with $z = c$, remains bounded [91, Chap. 14] listed in [1]. The script mandel in the next listing produces the plot of the Mandelbrot set shown in Figure 1.7. The script contains calls to linspace of the form linspace (a, b ,n), which generate an equally spaced vector of n values between a and b. The repmat function repeats(z, m, n) repeats a matrix z m-times in the first dimension and n-times in the second dimension. The **complex** function is used to construct a matrix C that represents the rectangular region of interest in the complex plane. Using **complex** is generally faster than using a + 1im\\*b.  The plot itself is produced by **contourf**, which plots a ﬁlled contour. The expression $abs(Z)<Z\\_max$ in the call to contourf detects points that have not exceeded the threshold Z_max and that are therefore assumed to lie in the Mandelbrot set. You can experiment with mandel by changing the region that is plotted, via the **linspace** calls, the number of iterations **it_max**, the threshold **Z_max**, as well as the density of the grid **mc**."
   ]
  },
  {
   "cell_type": "code",
   "execution_count": 114,
   "metadata": {
    "collapsed": false
   },
   "outputs": [
    {
     "name": "stdout",
     "output_type": "stream",
     "text": [
      "                             N      8 bytes  Int64 : 29\n",
      "                        Nettle    178 KB     Module : Nettle\n",
      "                           ODE     59 KB     Module : ODE\n",
      "                   Polynomials     28 KB     Module : Polynomials\n",
      "                        PyPlot    936 bytes  Module : PyPlot\n",
      "                             V    144 bytes  3x3 Array{Complex{Float64},2} : Co…\n",
      "                             Y    120 bytes  3x5 Array{Float64,2} : [0.0 0.0 0.…\n",
      "                             Z     32 bytes  2x2 Array{Float64,2} : [1.0 1.0…\n",
      "                           ZMQ     71 KB     Module : ZMQ\n",
      "                         Z_max      8 bytes  Float64 : 1.0e6\n",
      "                             a     24 bytes  1x3 Array{Int64,2} : [1 2 3]\n",
      "                             b     24 bytes  1x3 Array{Int64,2} : [1 4 9]\n",
      "                             c     24 bytes  3-element Array{Int64,1} : [4,5,6]\n",
      "                         count      8 bytes  Int64 : 18\n",
      "                             e    208 bytes  Tuple{Array{Complex{Float64},1},Ar…\n",
      "                             f    514 bytes  Function : f\n",
      "                             g     96 bytes  3x4 Array{Int64,2} : [7 10 13 16…\n",
      "                        gasket   1253 bytes  Function : gasket\n",
      "                        init_n      8 bytes  Int64 : 27\n",
      "                        it_max      8 bytes  Int64 : 50\n",
      "                          left     16 bytes  29-element UnitRange{Int64} : 1:29\n",
      "                         level      8 bytes  Int64 : 5\n",
      "                      lorenzde    885 bytes  Function : lorenzde\n",
      "                             m      8 bytes  Int64 : 1000\n",
      "                            mc      8 bytes  Int64 : 301\n",
      "                             n      8 bytes  Int64 : 10\n",
      "                        narray   8000 bytes  1000-element Array{Float64,1} : [8…\n",
      "                         niter    232 bytes  29-element Array{Float64,1} : [1.0…\n",
      "                            pa     16 bytes  2-element Array{Int64,1} : [0,0]\n",
      "                            pb     16 bytes  2-element Array{Int64,1} : [1,0]\n",
      "                            pc     16 bytes  2-element Array{Float64,1} : [0.5,…\n",
      "                         point     16 bytes  2-element Array{Float64,1} : [0.0,…\n",
      "                        radius     80 bytes  10-element Array{Float64,1} : [5.0…\n",
      "                             t   1608 bytes  201-element Array{Float64,1} : [0.…\n",
      "                         theta     80 bytes  1x10 Array{Float64,2} : [0.0 0.698…\n",
      "                          tout   9896 bytes  1237-element Array{Float64,1} : [0…\n",
      "                         tspan     16 bytes  1x2 Array{Int64,2} : [0 50]\n",
      "                             v     48 bytes  6-element Array{Int64,1} : [1,2,3,…\n",
      "                             x     24 bytes  3-element Array{Float64,1} : [-1.2…\n",
      "                             y     40 bytes  5-element Array{Float64,1} : [1.0,…\n",
      "                            ys     28 KB     1237x3 Array{Float64,2} : [0.0 1.0…\n",
      "                         yzero     24 bytes  3-element Array{Float64,1} : [0.0,…\n",
      "                             z   1608 bytes  201-element Array{Float64,1} : [0.…\n",
      "                            zz     32 bytes  10-element LinSpace{Float64} : lin…\n",
      "x is odd\n"
     ]
    },
    {
     "ename": "LoadError",
     "evalue": "LoadError: UndefVarError: contourf not defined\nwhile loading In[114], in expression starting on line 18",
     "output_type": "error",
     "traceback": [
      "LoadError: UndefVarError: contourf not defined\nwhile loading In[114], in expression starting on line 18",
      ""
     ]
    }
   ],
   "source": [
    "#MANDEL Mandelbrot set.\n",
    "using PyPlot\n",
    "\n",
    "mc = 301\n",
    "\n",
    "x = linspace(-2.1, 0.6, mc)'\n",
    "y = linspace(-1.1, 1.1, mc)\n",
    "C = complex(repmat(x, mc), repmat(y, 1, mc))\n",
    "\n",
    "Z_max = 1e6\n",
    "it_max = 50\n",
    "Z = C\n",
    "\n",
    "for k in 1:it_max\n",
    "    Z = Z .^ 2 + C\n",
    "end\n",
    "\n",
    "contourf(x, y, (abs(Z) .< Z_max))\n",
    "title(\"Figure 1.7  Mandelbrot Set\")"
   ]
  },
  {
   "cell_type": "markdown",
   "metadata": {},
   "source": [
    "Next we solve the ordinary differential equation (ODE) system\n",
    "\n",
    "$$   d/dt \\; y_{1}(t) =  10 (y_{2}(t) - y_{1}(t)),$$\n",
    "$$ $$\n",
    "$$   d/dt \\; y_{2}(t) =  28 y_{1}(t) - y_{2}(t) - y_{1}(t) y_{3}(t),$$\n",
    "$$ $$\n",
    "$$   d/dt \\; y_{3}(t) = y_{1}(t) y_{2}(t) - 8 y_{3}(t) / 3.  $$\n",
    "\n",
    "This is an example from the Lorenz equations family; see [H1] listed in [1]. We take initial conditions y(0) = [0, 1, 0] and solve over $0 \\le t \\le 50$. The next listing includes a Julia function definition lorentzde. Given t and y, this function returns the right-hand side of the ODE as the vector **yprime**. This is the form required by Julia’s ODE solving functions. The rest of the listing uses the Julia function **ode45** to solve the ODE numerically and then produces the (y1, y3) phase plane plot shown in Figure 1.8. You can try different values of the constants defining the derivatives to see what happens.  For instance, change the 3 to an 8 in lorenzde and observe how the plot changes"
   ]
  },
  {
   "cell_type": "code",
   "execution_count": 115,
   "metadata": {
    "collapsed": false
   },
   "outputs": [
    {
     "ename": "LoadError",
     "evalue": "LoadError: UndefVarError: plot not defined\nwhile loading In[115], in expression starting on line 23",
     "output_type": "error",
     "traceback": [
      "LoadError: UndefVarError: plot not defined\nwhile loading In[115], in expression starting on line 23",
      ""
     ]
    }
   ],
   "source": [
    "using ODE\n",
    "using PyPlot\n",
    "\n",
    "function lorenzde(t, y)\n",
    "    # LORENZDE Lorenz equations.\n",
    "    # YPRIME = LORENZDE(T, Y)\n",
    "    yprime = [(10(y[2] - y[1])),  (28y[1] - y[2] - y[1] * y[3]),\n",
    "                       (y[1] * y[2] - 8y[3] / 3.)]\n",
    "    return yprime\n",
    "end\n",
    "\n",
    "#lrun    ODE solving example:  Lortez.\n",
    "\n",
    "tspan = [0 50]           # solve for 0 <= t <= 50\n",
    "yzero = [0., 1., 0.]     # initial condition\n",
    "\n",
    "tout, y = ode45(lorenzde, yzero, tspan)\n",
    "\n",
    "# ode45 returns a vector of vectors rather than a multidimensional array\n",
    "# and we must repack\n",
    "ys = hcat(y...).'\n",
    "\n",
    "plot(ys[:, 1], ys[:, 3])\n",
    "xlabel(\"y_1\")\n",
    "ylabel(\"y_3\")\n",
    "title(\"Figure 1.8  Lorenz equations\")"
   ]
  },
  {
   "cell_type": "markdown",
   "metadata": {},
   "source": [
    "Now we give an example of a recursive function, that is, a function that calls itself. The Sierpinski gasket [90, Sec. 2.2] listed in [1] is based on the following process. Given a triangle with vertices $P_{a}$, $P_{b}$, and $P_{c}$, We remove the triangle with vertices at the midpoints of the edges, $(P_{a} + P_{b})/2$, $(P_{b} + P_{c}) / 2$, and $(P_{c} + P_{a}) / 2$. This removes the “middle quarter” of the triangle, as illustrated in Figure 1.9. (The code in the function 'gasket' will be explained below)"
   ]
  },
  {
   "cell_type": "code",
   "execution_count": 116,
   "metadata": {
    "collapsed": false
   },
   "outputs": [
    {
     "name": "stderr",
     "output_type": "stream",
     "text": [
      "WARNING: could not import PyPlot.plt into Main\n"
     ]
    },
    {
     "ename": "LoadError",
     "evalue": "LoadError: UndefVarError: plt not defined\nwhile loading In[116], in expression starting on line 26",
     "output_type": "error",
     "traceback": [
      "LoadError: UndefVarError: plt not defined\nwhile loading In[116], in expression starting on line 26",
      "",
      " in gasket at In[116]:12",
      " in gasket at In[116]:16"
     ]
    }
   ],
   "source": [
    "import PyPlot.plt\n",
    "\n",
    "function gasket(pa, pb, pc, level)\n",
    "    #=\n",
    "    GASKET Recursively generated Sierpinski gasket. \n",
    "    GASKET(PA, PB, PC, LEVEL) generates an approximation to \n",
    "    the Sierpinski gasket, where the 2-vectors PA, PB, and PC Z define the triangle vertices. \n",
    "    LEVEL is the level of recursion.\n",
    "    =#\n",
    "    if level == 0\n",
    "        # Fill the triangle with vertices Pa, Pb, Pc. \n",
    "        plt.fill([pa[1], pb[1], pc[1]], [pa[2], pb[2], pc[2]], \"g\") \n",
    "        hold(true)\n",
    "    else\n",
    "        # Recursive calls for the three subtriangles. \n",
    "        gasket(pa, (pa + pb) / 2., (pa + pc) / 2., level - 1) \n",
    "        gasket(pb, (pb + pa) / 2., (pb + pc) / 2., level - 1) \n",
    "        gasket(pc, (pc + pa) / 2., (pc + pb) / 2., level - 1)\n",
    "    end\n",
    "end\n",
    "\n",
    "pa = [0, 0]\n",
    "pb = [1, 0]\n",
    "pc = [0.5, sqrt(3)/2.]\n",
    "level = 1\n",
    "gasket(pa, pb, pc, level)\n",
    "hold(false)\n",
    "plt.title(\"Figure 1.9  Gasket level = 1\")\n",
    "plt.axis(\"equal\")"
   ]
  },
  {
   "cell_type": "markdown",
   "metadata": {},
   "source": [
    "Effectively, we have replaced the original triangle with three “subtriangles”. We can now apply the middle quarter removal process to each of these subtriangles to generate nine subsubtriangles, and so on. The Sierpinski gasket is the set of all points that are never removed by repeated application of this process. The function gasket in the listing above implements the removal process. The input arguments $P\\_{a}$, $P\\_{b}$, and $P\\_{c}$ deﬁne the vertices of the triangle and level speciﬁes how many times the process is to be applied. If level is nonzero then gasket calls itself three times with level reduced by 1, once for each of the three subtriangles. When level ﬁnally reaches zero, the recursion 'bottoms-out' and the appropriate triangle is drawn. The following code generates Figure 1.10."
   ]
  },
  {
   "cell_type": "code",
   "execution_count": 117,
   "metadata": {
    "collapsed": false
   },
   "outputs": [
    {
     "ename": "LoadError",
     "evalue": "LoadError: UndefVarError: plt not defined\nwhile loading In[117], in expression starting on line 2",
     "output_type": "error",
     "traceback": [
      "LoadError: UndefVarError: plt not defined\nwhile loading In[117], in expression starting on line 2",
      ""
     ]
    }
   ],
   "source": [
    "level = 5\n",
    "gasket(pa, pb, pc, level)\n",
    "plt.hold(false)\n",
    "plt.title(\"Figure 1.10  Gasket level = 5\")\n",
    "plt.axis(\"equal\")"
   ]
  },
  {
   "cell_type": "markdown",
   "metadata": {},
   "source": [
    "(Figure 1.9 was generated in the same way with level = 1.) In the last line, the call to axis makes the units of the $x-$ and $y—$axes equal and turns off the axes and their labels. You should experiment with different initial Vertices $P_{a}$, $P_{b}$, and $P_{c}$, and diiferent levels of recursion, but keep in mind that setting level bigger than 8 may overstretch either your patience or your computer’s resources."
   ]
  },
  {
   "cell_type": "markdown",
   "metadata": {},
   "source": [
    "The Sierpinski gasket can also be generated by playing Barnsley’s “chaos game” [90, Sec. 1.3] listed in [1]. We choose one of the vertices of a triangle as a starting point. Then we pick one of the three vertices at random, take the midpoint of the line joining this vertex with the starting point and plot this new point. Then we take the midpoint of the line joining this point and a randomly chosen vertex as the next point, which is plotted, and the process continues. The script barnsley in Listing 1.8 implements the game. Figure 1.11 shows the result of choosing 1000 iterations: "
   ]
  },
  {
   "cell_type": "code",
   "execution_count": 118,
   "metadata": {
    "collapsed": false
   },
   "outputs": [
    {
     "ename": "LoadError",
     "evalue": "LoadError: UndefVarError: plot not defined\nwhile loading In[118], in expression starting on line 10",
     "output_type": "error",
     "traceback": [
      "LoadError: UndefVarError: plot not defined\nwhile loading In[118], in expression starting on line 10",
      "",
      " [inlined code] from In[118]:13",
      " in anonymous at no file:0"
     ]
    }
   ],
   "source": [
    "#BARNSLEY Barnsley’s game to compute Sierpinski gasket. \n",
    "\n",
    "srand(1)                    # and (re)set the seed\n",
    "\n",
    "V = [0 1 0.5; 0 0 sqrt(3)/2] # Columns give triangle vertices. \n",
    "point = V[:, 1]                    # Start at a Vertex. \n",
    "\n",
    "n = 1000     #  Change this number to experiment\n",
    "\n",
    "for k=1:n\n",
    "    node = ceil(3rand())   # node is 1, 2, or 3 with equal prob. \n",
    "    point = (V[:, node] + point)/2 \n",
    "    plot(point[1], point[2], \".\", markersize=15) \n",
    "    hold(true)\n",
    "end\n",
    "\n",
    "axis(\"equal\") \n",
    "hold(false)"
   ]
  },
  {
   "cell_type": "markdown",
   "metadata": {},
   "source": [
    "Try experimenting with the number of points, $n$, the type and size of marker in the plot command, and the location of the starting point.\n",
    "\n",
    "We ﬁnish with the listing of sweep, which generates a volume—swept three—dimensional (3D) object; see Figure 1.12. Here, the command surf (X,Y,Z) creates a 3D surface where the height Z[i, j] is speciﬁed at the point (X[i, j] ,Y[i, j]) in the x-y plane. The script is not written in the most obvious fashion, which would use two nested for loops. Instead it is vectorized. To understand how it works you will need to be familiar with Chapter 5 and 21.4 of reference [1]. You can experiment with the script by changing the parameter N and the function that determines the variable radius: try replacing sqrt by other functions, such as log, sin, or abs."
   ]
  },
  {
   "cell_type": "code",
   "execution_count": 119,
   "metadata": {
    "collapsed": false
   },
   "outputs": [
    {
     "ename": "LoadError",
     "evalue": "LoadError: UndefVarError: get_cmap not defined\nwhile loading In[119], in expression starting on line 14",
     "output_type": "error",
     "traceback": [
      "LoadError: UndefVarError: get_cmap not defined\nwhile loading In[119], in expression starting on line 14",
      ""
     ]
    }
   ],
   "source": [
    "#  SWEEP   Generates a volume-swept 3D object.\n",
    "using PyPlot\n",
    "\n",
    "n = 10      # Number of increments - try increasing\n",
    "\n",
    "zz = linspace(-5, 5, n)\n",
    "radius = sqrt(1 + zz .^ 2)    # Try changing sqrt to cos, sin, log or abs\n",
    "theta = 2pi * linspace(0, 1, n)'\n",
    "\n",
    "x = radius * cos(theta)\n",
    "y = radius * sin(theta)\n",
    "z = zz[:, ones(n)]   #  Tony's trick!   Who is Tony?  No idea.\n",
    "\n",
    "cm = get_cmap(\"coolwarm\")\n",
    "surf = plot_surface(x, y, z, rstride=1, cstride=1, cmap=cm,\n",
    "        linewidth=.5, antialiased=true)\n",
    "\n",
    "colorbar(surf, shrink=0.5, aspect=5)\n",
    "title(\"Figure 1.12  3D picture produced by sweep\")"
   ]
  },
  {
   "cell_type": "markdown",
   "metadata": {},
   "source": [
    ">[1] D. J. Higham and N. J. Higham.  \n",
    ">[MATLAB Guide](http://www.ec-securehost.com/SIAM/ot92.html), Second edition,  \n",
    ">Society for Industrial and Applied Mathematics, Philadelphia, PA, USA,  \n",
    ">2005, ISBN 0-89871-578-4 \n",
    "\n",
    ">[2] Fernando Pérez, Brian E. Granger, IPython: A System for Interactive Scientific \n",
    ">Computing, Computing in Science and Engineering, vol. 9, no. 3, pp. 21-29, May/June 2007, \n",
    ">doi:10.1109/MCSE.2007.53. URL: http://ipython.org"
   ]
  }
 ],
 "metadata": {
  "kernelspec": {
   "display_name": "Julia 0.4.0-dev",
   "language": "julia",
   "name": "julia-0.4"
  },
  "language_info": {
   "name": "julia",
   "version": "0.4.0"
  }
 },
 "nbformat": 4,
 "nbformat_minor": 0
}
